{
  "nbformat": 4,
  "nbformat_minor": 0,
  "metadata": {
    "colab": {
      "name": "3.5. 图像分类数据集(Fashion-Mnist).ipynb",
      "provenance": [],
      "collapsed_sections": [],
      "include_colab_link": true
    },
    "kernelspec": {
      "name": "python3",
      "display_name": "Python 3"
    }
  },
  "cells": [
    {
      "cell_type": "markdown",
      "metadata": {
        "id": "view-in-github",
        "colab_type": "text"
      },
      "source": [
        "<a href=\"https://colab.research.google.com/github/chongzicbo/Dive-into-Deep-Learning-tf.keras/blob/master/3_5_%E5%9B%BE%E5%83%8F%E5%88%86%E7%B1%BB%E6%95%B0%E6%8D%AE%E9%9B%86(Fashion_Mnist).ipynb\" target=\"_parent\"><img src=\"https://colab.research.google.com/assets/colab-badge.svg\" alt=\"Open In Colab\"/></a>"
      ]
    },
    {
      "cell_type": "markdown",
      "metadata": {
        "id": "4kMuX5OG8NEI",
        "colab_type": "text"
      },
      "source": [
        "##3.5. 图像分类数据集（Fashion-MNIST）\n",
        "&emsp;&emsp;在介绍softmax回归的实现前我们先引入一个多类图像分类数据集。它将在后面的章节中被多次使用，以方便我们观察比较算法之间在模型精度和计算效率上的区别。图像分类数据集中最常用的是手写数字识别数据集MNIST [1]。但大部分模型在MNIST上的分类精度都超过了95%。为了更直观地观察算法之间的差异，我们将使用一个图像内容更加复杂的数据集Fashion-MNIST [2]。\n",
        "\n",
        "### 3.5.1. 获取数据集\n",
        "&emsp;&emsp;首先导入本节需要的包或模块。"
      ]
    },
    {
      "cell_type": "code",
      "metadata": {
        "id": "STbS4S928Aj5",
        "colab_type": "code",
        "outputId": "b18eb36b-95ab-4b60-c5ae-96869c1f94f3",
        "colab": {
          "base_uri": "https://localhost:8080/",
          "height": 64
        }
      },
      "source": [
        "%matplotlib inline\n",
        "import tensorflow as tf\n",
        "from tensorflow.keras import datasets\n",
        "import sys\n",
        "import time\n",
        "import matplotlib.pyplot as plt\n",
        "from IPython import display\n",
        "import tensorflow.data as tfdata"
      ],
      "execution_count": 1,
      "outputs": [
        {
          "output_type": "display_data",
          "data": {
            "text/html": [
              "<p style=\"color: red;\">\n",
              "The default version of TensorFlow in Colab will soon switch to TensorFlow 2.x.<br>\n",
              "We recommend you <a href=\"https://www.tensorflow.org/guide/migrate\" target=\"_blank\">upgrade</a> now \n",
              "or ensure your notebook will continue to use TensorFlow 1.x via the <code>%tensorflow_version 1.x</code> magic:\n",
              "<a href=\"https://colab.research.google.com/notebooks/tensorflow_version.ipynb\" target=\"_blank\">more info</a>.</p>\n"
            ],
            "text/plain": [
              "<IPython.core.display.HTML object>"
            ]
          },
          "metadata": {
            "tags": []
          }
        }
      ]
    },
    {
      "cell_type": "code",
      "metadata": {
        "id": "Bu1_qLJ7FmEA",
        "colab_type": "code",
        "colab": {}
      },
      "source": [
        "tf.enable_eager_execution()"
      ],
      "execution_count": 0,
      "outputs": []
    },
    {
      "cell_type": "markdown",
      "metadata": {
        "id": "pGGNhlGNcGF2",
        "colab_type": "text"
      },
      "source": [
        "&emsp;&emsp;下面，我们通过keras的dataset包来下载这个数据集。第一次调用时会自动从网上获取数据。返回训练数据集和测试数据集（testing data set）。测试数据集也叫测试集（testing set），只用来评价模型的表现，并不用来训练模型。"
      ]
    },
    {
      "cell_type": "code",
      "metadata": {
        "id": "5VehaS589a0Z",
        "colab_type": "code",
        "outputId": "d5cd7890-c6a0-48ef-a948-6a0d94c8c9b4",
        "colab": {
          "base_uri": "https://localhost:8080/",
          "height": 161
        }
      },
      "source": [
        "(x_train,y_train),(x_test,y_test)=datasets.fashion_mnist.load_data()"
      ],
      "execution_count": 3,
      "outputs": [
        {
          "output_type": "stream",
          "text": [
            "Downloading data from https://storage.googleapis.com/tensorflow/tf-keras-datasets/train-labels-idx1-ubyte.gz\n",
            "32768/29515 [=================================] - 0s 0us/step\n",
            "Downloading data from https://storage.googleapis.com/tensorflow/tf-keras-datasets/train-images-idx3-ubyte.gz\n",
            "26427392/26421880 [==============================] - 0s 0us/step\n",
            "Downloading data from https://storage.googleapis.com/tensorflow/tf-keras-datasets/t10k-labels-idx1-ubyte.gz\n",
            "8192/5148 [===============================================] - 0s 0us/step\n",
            "Downloading data from https://storage.googleapis.com/tensorflow/tf-keras-datasets/t10k-images-idx3-ubyte.gz\n",
            "4423680/4422102 [==============================] - 0s 0us/step\n"
          ],
          "name": "stdout"
        }
      ]
    },
    {
      "cell_type": "markdown",
      "metadata": {
        "id": "8fp1bIMtcj_2",
        "colab_type": "text"
      },
      "source": [
        "&emsp;&emsp;训练集中和测试集中的每个类别的图像数分别为6,000和1,000。因为有10个类别，所以训练集和测试集的样本数分别为60,000和10,000。"
      ]
    },
    {
      "cell_type": "code",
      "metadata": {
        "id": "hiKIkSdW9r70",
        "colab_type": "code",
        "outputId": "cda6453c-0963-43a9-9710-0d14383428e2",
        "colab": {
          "base_uri": "https://localhost:8080/",
          "height": 35
        }
      },
      "source": [
        "x_train.shape,y_train.shape,x_test.shape,y_test.shape"
      ],
      "execution_count": 4,
      "outputs": [
        {
          "output_type": "execute_result",
          "data": {
            "text/plain": [
              "((60000, 28, 28), (60000,), (10000, 28, 28), (10000,))"
            ]
          },
          "metadata": {
            "tags": []
          },
          "execution_count": 4
        }
      ]
    },
    {
      "cell_type": "code",
      "metadata": {
        "id": "onlSq2sf9uj0",
        "colab_type": "code",
        "colab": {}
      },
      "source": [
        "feature,label=x_train[0],y_train[0]"
      ],
      "execution_count": 0,
      "outputs": []
    },
    {
      "cell_type": "markdown",
      "metadata": {
        "id": "BdjVSMjRcwBo",
        "colab_type": "text"
      },
      "source": [
        "&emsp;&emsp;变量feature对应高和宽均为28像素的图像。每个像素的数值为0到255之间8位无符号整数（uint8）。它使用三维的Tensor存储。其中的最后一维是通道数。因为数据集中是灰度图像，所以通道数为1。为了表述简洁，我们将高和宽分别为 h 和 w 像素的图像的形状记为 h×w 或（h，w）。"
      ]
    },
    {
      "cell_type": "code",
      "metadata": {
        "id": "j-md9ub1-tAW",
        "colab_type": "code",
        "outputId": "1cd0f67b-0df8-4cde-962b-0b0a9d48adde",
        "colab": {
          "base_uri": "https://localhost:8080/",
          "height": 35
        }
      },
      "source": [
        "feature.shape,feature.dtype"
      ],
      "execution_count": 8,
      "outputs": [
        {
          "output_type": "execute_result",
          "data": {
            "text/plain": [
              "((28, 28), dtype('uint8'))"
            ]
          },
          "metadata": {
            "tags": []
          },
          "execution_count": 8
        }
      ]
    },
    {
      "cell_type": "code",
      "metadata": {
        "id": "RIhIsPxI-z71",
        "colab_type": "code",
        "outputId": "134e5146-4a9d-443a-c17f-61896267fbbe",
        "colab": {
          "base_uri": "https://localhost:8080/",
          "height": 35
        }
      },
      "source": [
        "label,type(label),label.dtype"
      ],
      "execution_count": 9,
      "outputs": [
        {
          "output_type": "execute_result",
          "data": {
            "text/plain": [
              "(9, numpy.uint8, dtype('uint8'))"
            ]
          },
          "metadata": {
            "tags": []
          },
          "execution_count": 9
        }
      ]
    },
    {
      "cell_type": "markdown",
      "metadata": {
        "id": "cmvW9ekkc-QB",
        "colab_type": "text"
      },
      "source": [
        "&emsp;&emsp;Fashion-MNIST中一共包括了10个类别，分别为t-shirt（T恤）、trouser（裤子）、pullover（套衫）、dress（连衣裙）、coat（外套）、sandal（凉鞋）、shirt（衬衫）、sneaker（运动鞋）、bag（包）和ankle boot（短靴）。以下函数可以将数值标签转成相应的文本标签。"
      ]
    },
    {
      "cell_type": "code",
      "metadata": {
        "id": "iUYEGR9V-7M9",
        "colab_type": "code",
        "colab": {}
      },
      "source": [
        "def get_fashion_mnist_labels(labels):\n",
        "  text_labels=['t-shirt', 'trouser', 'pullover', 'dress', 'coat',\n",
        "                   'sandal', 'shirt', 'sneaker', 'bag', 'ankle boot']\n",
        "  return [text_labels[int(i)]  for i in labels]                   "
      ],
      "execution_count": 0,
      "outputs": []
    },
    {
      "cell_type": "markdown",
      "metadata": {
        "id": "b6DUoXc2dH8H",
        "colab_type": "text"
      },
      "source": [
        "现在，我们看一下训练数据集中前9个样本的图像内容和文本标签。"
      ]
    },
    {
      "cell_type": "code",
      "metadata": {
        "id": "Zrc0Xe0eAHfm",
        "colab_type": "code",
        "colab": {}
      },
      "source": [
        "def use_svg_display():\n",
        "  #用矢量图显示\n",
        "  display.set_matplotlib_formats('svg')\n",
        "def set_figsize(figsize=(3.5,2.5)):\n",
        "  use_svg_display()\n",
        "  #设置图的尺寸\n",
        "  plt.rcParams['figure.figsize']=figsize\n",
        "\n",
        "def show_fashion_mnist(images,labels):\n",
        "  use_svg_display()\n",
        "  _,figs=plt.subplots(1,len(images),figsize=(12,12))\n",
        "  for f,img,lbl in zip(figs,images,labels):\n",
        "    f.imshow(img.reshape((28,28)))\n",
        "    f.set_title(lbl)\n",
        "    f.axes.get_xaxis().set_visible(False)\n",
        "    f.axes.get_yaxis().set_visible(False)\n"
      ],
      "execution_count": 0,
      "outputs": []
    },
    {
      "cell_type": "code",
      "metadata": {
        "id": "ykClriifBkP8",
        "colab_type": "code",
        "colab": {}
      },
      "source": [
        "X,y=x_train[0:9],y_train[0:9]"
      ],
      "execution_count": 0,
      "outputs": []
    },
    {
      "cell_type": "code",
      "metadata": {
        "id": "JunFc9q9B0eV",
        "colab_type": "code",
        "outputId": "96f04870-e19b-4724-da42-58fe8a2a8162",
        "colab": {
          "base_uri": "https://localhost:8080/",
          "height": 148
        }
      },
      "source": [
        "show_fashion_mnist(X,get_fashion_mnist_labels(y))"
      ],
      "execution_count": 13,
      "outputs": [
        {
          "output_type": "display_data",
          "data": {
            "text/plain": [
              "<Figure size 864x864 with 9 Axes>"
            ],
            "image/svg+xml": "<?xml version=\"1.0\" encoding=\"utf-8\" standalone=\"no\"?>\n<!DOCTYPE svg PUBLIC \"-//W3C//DTD SVG 1.1//EN\"\n  \"http://www.w3.org/Graphics/SVG/1.1/DTD/svg11.dtd\">\n<!-- Created with matplotlib (https://matplotlib.org/) -->\n<svg height=\"96.187936pt\" version=\"1.1\" viewBox=\"0 0 687.5 96.187936\" width=\"687.5pt\" xmlns=\"http://www.w3.org/2000/svg\" xmlns:xlink=\"http://www.w3.org/1999/xlink\">\n <defs>\n  <style type=\"text/css\">\n*{stroke-linecap:butt;stroke-linejoin:round;}\n  </style>\n </defs>\n <g id=\"figure_1\">\n  <g id=\"patch_1\">\n   <path d=\"M 0 96.187936 \nL 687.5 96.187936 \nL 687.5 0 \nL 0 0 \nz\n\" style=\"fill:none;\"/>\n  </g>\n  <g id=\"axes_1\">\n   <g id=\"patch_2\">\n    <path d=\"M 10.7 85.487936 \nL 73.869811 85.487936 \nL 73.869811 22.318125 \nL 10.7 22.318125 \nz\n\" style=\"fill:#ffffff;\"/>\n   </g>\n   <g clip-path=\"url(#p9ecb3326cc)\">\n    <image height=\"64\" id=\"image055604dd77\" transform=\"scale(1 -1)translate(0 -64)\" width=\"64\" x=\"10.7\" xlink:href=\"data:image/png;base64,\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\" y=\"-21.487936\"/>\n   </g>\n   <g id=\"patch_3\">\n    <path d=\"M 10.7 85.487936 \nL 10.7 22.318125 \n\" style=\"fill:none;stroke:#000000;stroke-linecap:square;stroke-linejoin:miter;stroke-width:0.8;\"/>\n   </g>\n   <g id=\"patch_4\">\n    <path d=\"M 73.869811 85.487936 \nL 73.869811 22.318125 \n\" style=\"fill:none;stroke:#000000;stroke-linecap:square;stroke-linejoin:miter;stroke-width:0.8;\"/>\n   </g>\n   <g id=\"patch_5\">\n    <path d=\"M 10.7 85.487936 \nL 73.869811 85.487936 \n\" style=\"fill:none;stroke:#000000;stroke-linecap:square;stroke-linejoin:miter;stroke-width:0.8;\"/>\n   </g>\n   <g id=\"patch_6\">\n    <path d=\"M 10.7 22.318125 \nL 73.869811 22.318125 \n\" style=\"fill:none;stroke:#000000;stroke-linecap:square;stroke-linejoin:miter;stroke-width:0.8;\"/>\n   </g>\n   <g id=\"text_1\">\n    <!-- ankle boot -->\n    <defs>\n     <path d=\"M 34.28125 27.484375 \nQ 23.390625 27.484375 19.1875 25 \nQ 14.984375 22.515625 14.984375 16.5 \nQ 14.984375 11.71875 18.140625 8.90625 \nQ 21.296875 6.109375 26.703125 6.109375 \nQ 34.1875 6.109375 38.703125 11.40625 \nQ 43.21875 16.703125 43.21875 25.484375 \nL 43.21875 27.484375 \nz\nM 52.203125 31.203125 \nL 52.203125 0 \nL 43.21875 0 \nL 43.21875 8.296875 \nQ 40.140625 3.328125 35.546875 0.953125 \nQ 30.953125 -1.421875 24.3125 -1.421875 \nQ 15.921875 -1.421875 10.953125 3.296875 \nQ 6 8.015625 6 15.921875 \nQ 6 25.140625 12.171875 29.828125 \nQ 18.359375 34.515625 30.609375 34.515625 \nL 43.21875 34.515625 \nL 43.21875 35.40625 \nQ 43.21875 41.609375 39.140625 45 \nQ 35.0625 48.390625 27.6875 48.390625 \nQ 23 48.390625 18.546875 47.265625 \nQ 14.109375 46.140625 10.015625 43.890625 \nL 10.015625 52.203125 \nQ 14.9375 54.109375 19.578125 55.046875 \nQ 24.21875 56 28.609375 56 \nQ 40.484375 56 46.34375 49.84375 \nQ 52.203125 43.703125 52.203125 31.203125 \nz\n\" id=\"DejaVuSans-97\"/>\n     <path d=\"M 54.890625 33.015625 \nL 54.890625 0 \nL 45.90625 0 \nL 45.90625 32.71875 \nQ 45.90625 40.484375 42.875 44.328125 \nQ 39.84375 48.1875 33.796875 48.1875 \nQ 26.515625 48.1875 22.3125 43.546875 \nQ 18.109375 38.921875 18.109375 30.90625 \nL 18.109375 0 \nL 9.078125 0 \nL 9.078125 54.6875 \nL 18.109375 54.6875 \nL 18.109375 46.1875 \nQ 21.34375 51.125 25.703125 53.5625 \nQ 30.078125 56 35.796875 56 \nQ 45.21875 56 50.046875 50.171875 \nQ 54.890625 44.34375 54.890625 33.015625 \nz\n\" id=\"DejaVuSans-110\"/>\n     <path d=\"M 9.078125 75.984375 \nL 18.109375 75.984375 \nL 18.109375 31.109375 \nL 44.921875 54.6875 \nL 56.390625 54.6875 \nL 27.390625 29.109375 \nL 57.625 0 \nL 45.90625 0 \nL 18.109375 26.703125 \nL 18.109375 0 \nL 9.078125 0 \nz\n\" id=\"DejaVuSans-107\"/>\n     <path d=\"M 9.421875 75.984375 \nL 18.40625 75.984375 \nL 18.40625 0 \nL 9.421875 0 \nz\n\" id=\"DejaVuSans-108\"/>\n     <path d=\"M 56.203125 29.59375 \nL 56.203125 25.203125 \nL 14.890625 25.203125 \nQ 15.484375 15.921875 20.484375 11.0625 \nQ 25.484375 6.203125 34.421875 6.203125 \nQ 39.59375 6.203125 44.453125 7.46875 \nQ 49.3125 8.734375 54.109375 11.28125 \nL 54.109375 2.78125 \nQ 49.265625 0.734375 44.1875 -0.34375 \nQ 39.109375 -1.421875 33.890625 -1.421875 \nQ 20.796875 -1.421875 13.15625 6.1875 \nQ 5.515625 13.8125 5.515625 26.8125 \nQ 5.515625 40.234375 12.765625 48.109375 \nQ 20.015625 56 32.328125 56 \nQ 43.359375 56 49.78125 48.890625 \nQ 56.203125 41.796875 56.203125 29.59375 \nz\nM 47.21875 32.234375 \nQ 47.125 39.59375 43.09375 43.984375 \nQ 39.0625 48.390625 32.421875 48.390625 \nQ 24.90625 48.390625 20.390625 44.140625 \nQ 15.875 39.890625 15.1875 32.171875 \nz\n\" id=\"DejaVuSans-101\"/>\n     <path id=\"DejaVuSans-32\"/>\n     <path d=\"M 48.6875 27.296875 \nQ 48.6875 37.203125 44.609375 42.84375 \nQ 40.53125 48.484375 33.40625 48.484375 \nQ 26.265625 48.484375 22.1875 42.84375 \nQ 18.109375 37.203125 18.109375 27.296875 \nQ 18.109375 17.390625 22.1875 11.75 \nQ 26.265625 6.109375 33.40625 6.109375 \nQ 40.53125 6.109375 44.609375 11.75 \nQ 48.6875 17.390625 48.6875 27.296875 \nz\nM 18.109375 46.390625 \nQ 20.953125 51.265625 25.265625 53.625 \nQ 29.59375 56 35.59375 56 \nQ 45.5625 56 51.78125 48.09375 \nQ 58.015625 40.1875 58.015625 27.296875 \nQ 58.015625 14.40625 51.78125 6.484375 \nQ 45.5625 -1.421875 35.59375 -1.421875 \nQ 29.59375 -1.421875 25.265625 0.953125 \nQ 20.953125 3.328125 18.109375 8.203125 \nL 18.109375 0 \nL 9.078125 0 \nL 9.078125 75.984375 \nL 18.109375 75.984375 \nz\n\" id=\"DejaVuSans-98\"/>\n     <path d=\"M 30.609375 48.390625 \nQ 23.390625 48.390625 19.1875 42.75 \nQ 14.984375 37.109375 14.984375 27.296875 \nQ 14.984375 17.484375 19.15625 11.84375 \nQ 23.34375 6.203125 30.609375 6.203125 \nQ 37.796875 6.203125 41.984375 11.859375 \nQ 46.1875 17.53125 46.1875 27.296875 \nQ 46.1875 37.015625 41.984375 42.703125 \nQ 37.796875 48.390625 30.609375 48.390625 \nz\nM 30.609375 56 \nQ 42.328125 56 49.015625 48.375 \nQ 55.71875 40.765625 55.71875 27.296875 \nQ 55.71875 13.875 49.015625 6.21875 \nQ 42.328125 -1.421875 30.609375 -1.421875 \nQ 18.84375 -1.421875 12.171875 6.21875 \nQ 5.515625 13.875 5.515625 27.296875 \nQ 5.515625 40.765625 12.171875 48.375 \nQ 18.84375 56 30.609375 56 \nz\n\" id=\"DejaVuSans-111\"/>\n     <path d=\"M 18.3125 70.21875 \nL 18.3125 54.6875 \nL 36.8125 54.6875 \nL 36.8125 47.703125 \nL 18.3125 47.703125 \nL 18.3125 18.015625 \nQ 18.3125 11.328125 20.140625 9.421875 \nQ 21.96875 7.515625 27.59375 7.515625 \nL 36.8125 7.515625 \nL 36.8125 0 \nL 27.59375 0 \nQ 17.1875 0 13.234375 3.875 \nQ 9.28125 7.765625 9.28125 18.015625 \nL 9.28125 47.703125 \nL 2.6875 47.703125 \nL 2.6875 54.6875 \nL 9.28125 54.6875 \nL 9.28125 70.21875 \nz\n\" id=\"DejaVuSans-116\"/>\n    </defs>\n    <g transform=\"translate(10.561781 16.318125)scale(0.12 -0.12)\">\n     <use xlink:href=\"#DejaVuSans-97\"/>\n     <use x=\"61.279297\" xlink:href=\"#DejaVuSans-110\"/>\n     <use x=\"124.658203\" xlink:href=\"#DejaVuSans-107\"/>\n     <use x=\"182.568359\" xlink:href=\"#DejaVuSans-108\"/>\n     <use x=\"210.351562\" xlink:href=\"#DejaVuSans-101\"/>\n     <use x=\"271.875\" xlink:href=\"#DejaVuSans-32\"/>\n     <use x=\"303.662109\" xlink:href=\"#DejaVuSans-98\"/>\n     <use x=\"367.138672\" xlink:href=\"#DejaVuSans-111\"/>\n     <use x=\"428.320312\" xlink:href=\"#DejaVuSans-111\"/>\n     <use x=\"489.501953\" xlink:href=\"#DejaVuSans-116\"/>\n    </g>\n   </g>\n  </g>\n  <g id=\"axes_2\">\n   <g id=\"patch_7\">\n    <path d=\"M 86.503774 85.487936 \nL 149.673585 85.487936 \nL 149.673585 22.318125 \nL 86.503774 22.318125 \nz\n\" style=\"fill:#ffffff;\"/>\n   </g>\n   <g clip-path=\"url(#pbfc82659bf)\">\n    <image height=\"64\" id=\"imagee57ed87d8c\" transform=\"scale(1 -1)translate(0 -64)\" width=\"64\" x=\"86.503774\" xlink:href=\"data:image/png;base64,\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\" y=\"-21.487936\"/>\n   </g>\n   <g id=\"patch_8\">\n    <path d=\"M 86.503774 85.487936 \nL 86.503774 22.318125 \n\" style=\"fill:none;stroke:#000000;stroke-linecap:square;stroke-linejoin:miter;stroke-width:0.8;\"/>\n   </g>\n   <g id=\"patch_9\">\n    <path d=\"M 149.673585 85.487936 \nL 149.673585 22.318125 \n\" style=\"fill:none;stroke:#000000;stroke-linecap:square;stroke-linejoin:miter;stroke-width:0.8;\"/>\n   </g>\n   <g id=\"patch_10\">\n    <path d=\"M 86.503774 85.487936 \nL 149.673585 85.487936 \n\" style=\"fill:none;stroke:#000000;stroke-linecap:square;stroke-linejoin:miter;stroke-width:0.8;\"/>\n   </g>\n   <g id=\"patch_11\">\n    <path d=\"M 86.503774 22.318125 \nL 149.673585 22.318125 \n\" style=\"fill:none;stroke:#000000;stroke-linecap:square;stroke-linejoin:miter;stroke-width:0.8;\"/>\n   </g>\n   <g id=\"text_2\">\n    <!-- t-shirt -->\n    <defs>\n     <path d=\"M 4.890625 31.390625 \nL 31.203125 31.390625 \nL 31.203125 23.390625 \nL 4.890625 23.390625 \nz\n\" id=\"DejaVuSans-45\"/>\n     <path d=\"M 44.28125 53.078125 \nL 44.28125 44.578125 \nQ 40.484375 46.53125 36.375 47.5 \nQ 32.28125 48.484375 27.875 48.484375 \nQ 21.1875 48.484375 17.84375 46.4375 \nQ 14.5 44.390625 14.5 40.28125 \nQ 14.5 37.15625 16.890625 35.375 \nQ 19.28125 33.59375 26.515625 31.984375 \nL 29.59375 31.296875 \nQ 39.15625 29.25 43.1875 25.515625 \nQ 47.21875 21.78125 47.21875 15.09375 \nQ 47.21875 7.46875 41.1875 3.015625 \nQ 35.15625 -1.421875 24.609375 -1.421875 \nQ 20.21875 -1.421875 15.453125 -0.5625 \nQ 10.6875 0.296875 5.421875 2 \nL 5.421875 11.28125 \nQ 10.40625 8.6875 15.234375 7.390625 \nQ 20.0625 6.109375 24.8125 6.109375 \nQ 31.15625 6.109375 34.5625 8.28125 \nQ 37.984375 10.453125 37.984375 14.40625 \nQ 37.984375 18.0625 35.515625 20.015625 \nQ 33.0625 21.96875 24.703125 23.78125 \nL 21.578125 24.515625 \nQ 13.234375 26.265625 9.515625 29.90625 \nQ 5.8125 33.546875 5.8125 39.890625 \nQ 5.8125 47.609375 11.28125 51.796875 \nQ 16.75 56 26.8125 56 \nQ 31.78125 56 36.171875 55.265625 \nQ 40.578125 54.546875 44.28125 53.078125 \nz\n\" id=\"DejaVuSans-115\"/>\n     <path d=\"M 54.890625 33.015625 \nL 54.890625 0 \nL 45.90625 0 \nL 45.90625 32.71875 \nQ 45.90625 40.484375 42.875 44.328125 \nQ 39.84375 48.1875 33.796875 48.1875 \nQ 26.515625 48.1875 22.3125 43.546875 \nQ 18.109375 38.921875 18.109375 30.90625 \nL 18.109375 0 \nL 9.078125 0 \nL 9.078125 75.984375 \nL 18.109375 75.984375 \nL 18.109375 46.1875 \nQ 21.34375 51.125 25.703125 53.5625 \nQ 30.078125 56 35.796875 56 \nQ 45.21875 56 50.046875 50.171875 \nQ 54.890625 44.34375 54.890625 33.015625 \nz\n\" id=\"DejaVuSans-104\"/>\n     <path d=\"M 9.421875 54.6875 \nL 18.40625 54.6875 \nL 18.40625 0 \nL 9.421875 0 \nz\nM 9.421875 75.984375 \nL 18.40625 75.984375 \nL 18.40625 64.59375 \nL 9.421875 64.59375 \nz\n\" id=\"DejaVuSans-105\"/>\n     <path d=\"M 41.109375 46.296875 \nQ 39.59375 47.171875 37.8125 47.578125 \nQ 36.03125 48 33.890625 48 \nQ 26.265625 48 22.1875 43.046875 \nQ 18.109375 38.09375 18.109375 28.8125 \nL 18.109375 0 \nL 9.078125 0 \nL 9.078125 54.6875 \nL 18.109375 54.6875 \nL 18.109375 46.1875 \nQ 20.953125 51.171875 25.484375 53.578125 \nQ 30.03125 56 36.53125 56 \nQ 37.453125 56 38.578125 55.875 \nQ 39.703125 55.765625 41.0625 55.515625 \nz\n\" id=\"DejaVuSans-114\"/>\n    </defs>\n    <g transform=\"translate(100.158054 16.318125)scale(0.12 -0.12)\">\n     <use xlink:href=\"#DejaVuSans-116\"/>\n     <use x=\"39.208984\" xlink:href=\"#DejaVuSans-45\"/>\n     <use x=\"75.292969\" xlink:href=\"#DejaVuSans-115\"/>\n     <use x=\"127.392578\" xlink:href=\"#DejaVuSans-104\"/>\n     <use x=\"190.771484\" xlink:href=\"#DejaVuSans-105\"/>\n     <use x=\"218.554688\" xlink:href=\"#DejaVuSans-114\"/>\n     <use x=\"259.667969\" xlink:href=\"#DejaVuSans-116\"/>\n    </g>\n   </g>\n  </g>\n  <g id=\"axes_3\">\n   <g id=\"patch_12\">\n    <path d=\"M 162.307547 85.487936 \nL 225.477358 85.487936 \nL 225.477358 22.318125 \nL 162.307547 22.318125 \nz\n\" style=\"fill:#ffffff;\"/>\n   </g>\n   <g clip-path=\"url(#p785d7bda35)\">\n    <image height=\"64\" id=\"image9e85c72fe1\" transform=\"scale(1 -1)translate(0 -64)\" width=\"64\" x=\"162.307547\" xlink:href=\"data:image/png;base64,\niVBORw0KGgoAAAANSUhEUgAAAEAAAABACAYAAACqaXHeAAAABHNCSVQICAgIfAhkiAAABHhJREFUeJztWztv1EAQ/ny+Sw7nkugOCEEQBSmiAIJ4VEgIpSA9BVBSQIOoKKjo+BM0IKGIlg4hKnqkFBQUPETBI7yVKNEld7k7+2yK2Vnv+TZR7rxu8E7jtXc8Xu18OzM7O3YWnWsRTJDjxO1IL7J4eFq2g9kpAEC7OkqvK6/sW6mTmC/fAQBho7Hz93b41l6pkOrt/4CKxiQpmiiMjQEANq6cBgBsH6B59scUdjH1ha5G1Pn9AACnS9fKjxAAUHv+TvJ063Ujw849AnI/AY4pI+hOTMj2tzvzJJyQi+K25gXRVwjo845mFKFL19YBp0ceAMw++ggA6K6uDT9oWASYM4Kbl0/INmtqdIPUypqE4ikdYfwi0acCoBD0yvZ+U69fiQW0zh4DAJReWQSkImMICMqxdgo+XSPxiF1dpMZKjArN2u+WeM1TJ7vM0lbMHFRIQCndsC0CjCGgstKS7eYhD4BitTlqVad7F9/Dmpf34jZURts8SAjYN8xgFco9AnI/AcaWgNtWgnoBeYasGsAMQsn3wlJsRWsfWjBBFgGmBDltX/OQLlHKaWb3GSo+r7jZpr50oi0CzCHAV2yAUEsy3O2hPaguLIqASOQaVARgSLuSpNwjIPcTkIkRZPfFEZxE+5AWK3KFFVT2EoUmGUFNRm0gsggwJklJiso9PmuMjaJiuKRrVLQq+5xe4xdJf6owra2nG68giwBjkoIBV6NG87KLNc+HH2xT1E90NIHXEGQRYEySekTFa569gE7bzL4LEpicqJ856qa1/0S5R0DuJ8DYEogazfiGvVbCDep2hXK/oOtDwhgqyyXctvkAI2QOAUHQ/2wP06sNiBIhs0yPuyoErBE0QuY2Q0qFiGNGOXLtF1tmilh0lHsE5H4CzC0BLz6j6VLdkzwj1OYBEi5S5eFdY7KMpjPRX4ajLaAagCwCTAkKfv+Rbac7R40+dxa3tYlS7hNq4T1AUKb7YiM2tGk1z2QRkIXQ5JEWr+FQo/Xkeu95T8RWXHtQXjPvDi0CshDKWg080hzXCqnVtLvmChLP+ryKQco9AnI/AdksAWG8nEQhlGocZZt5NGd9vDyYV1dXnJYsArIQOiLK2XyheekGFZ5kmZyuVFYesYmrayYJ1EMWAVkIlRkch+Y3dPvVW94gtXKxtO/FuvC9xFEYF1wGNhAyTrmfgEyWAJe2MHmrZAXVCtD6DH2a/wWY+BKbyPHv5EebB4lHRot7OEUalCwCshDKdf3eX9JqfZY+s3jrteQ55f0AANTcLQDA+9YR2bf04QIAYOopZZnaVTHMDHKjFgFZCC10RCZnlJCwcHMZAHBp/KPkuVReBQBUXaosnyu9lX3z51YAAPei6wCA/c+Ip1Mxry+LAFOC3GpVtjuTpPkbd18CANYDyuAu/booeR76tMlv+CMAgOmx+EfIyRLFvA/OvAAA3K9fBQDUli0CjFPuJ8DYj5MqFWdnAACfbh8FABx//BMAEHz+OpCccOEcAGDtJOXFp568kX1Ru516nIBFAP4BvKBR+cWyyqoAAAAASUVORK5CYII=\" y=\"-21.487936\"/>\n   </g>\n   <g id=\"patch_13\">\n    <path d=\"M 162.307547 85.487936 \nL 162.307547 22.318125 \n\" style=\"fill:none;stroke:#000000;stroke-linecap:square;stroke-linejoin:miter;stroke-width:0.8;\"/>\n   </g>\n   <g id=\"patch_14\">\n    <path d=\"M 225.477358 85.487936 \nL 225.477358 22.318125 \n\" style=\"fill:none;stroke:#000000;stroke-linecap:square;stroke-linejoin:miter;stroke-width:0.8;\"/>\n   </g>\n   <g id=\"patch_15\">\n    <path d=\"M 162.307547 85.487936 \nL 225.477358 85.487936 \n\" style=\"fill:none;stroke:#000000;stroke-linecap:square;stroke-linejoin:miter;stroke-width:0.8;\"/>\n   </g>\n   <g id=\"patch_16\">\n    <path d=\"M 162.307547 22.318125 \nL 225.477358 22.318125 \n\" style=\"fill:none;stroke:#000000;stroke-linecap:square;stroke-linejoin:miter;stroke-width:0.8;\"/>\n   </g>\n   <g id=\"text_3\">\n    <!-- t-shirt -->\n    <g transform=\"translate(175.961828 16.318125)scale(0.12 -0.12)\">\n     <use xlink:href=\"#DejaVuSans-116\"/>\n     <use x=\"39.208984\" xlink:href=\"#DejaVuSans-45\"/>\n     <use x=\"75.292969\" xlink:href=\"#DejaVuSans-115\"/>\n     <use x=\"127.392578\" xlink:href=\"#DejaVuSans-104\"/>\n     <use x=\"190.771484\" xlink:href=\"#DejaVuSans-105\"/>\n     <use x=\"218.554688\" xlink:href=\"#DejaVuSans-114\"/>\n     <use x=\"259.667969\" xlink:href=\"#DejaVuSans-116\"/>\n    </g>\n   </g>\n  </g>\n  <g id=\"axes_4\">\n   <g id=\"patch_17\">\n    <path d=\"M 238.111321 85.487936 \nL 301.281132 85.487936 \nL 301.281132 22.318125 \nL 238.111321 22.318125 \nz\n\" style=\"fill:#ffffff;\"/>\n   </g>\n   <g clip-path=\"url(#p36c1bf539d)\">\n    <image height=\"64\" id=\"image5b6c2b8d9e\" transform=\"scale(1 -1)translate(0 -64)\" width=\"64\" x=\"238.111321\" xlink:href=\"data:image/png;base64,\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\" y=\"-21.487936\"/>\n   </g>\n   <g id=\"patch_18\">\n    <path d=\"M 238.111321 85.487936 \nL 238.111321 22.318125 \n\" style=\"fill:none;stroke:#000000;stroke-linecap:square;stroke-linejoin:miter;stroke-width:0.8;\"/>\n   </g>\n   <g id=\"patch_19\">\n    <path d=\"M 301.281132 85.487936 \nL 301.281132 22.318125 \n\" style=\"fill:none;stroke:#000000;stroke-linecap:square;stroke-linejoin:miter;stroke-width:0.8;\"/>\n   </g>\n   <g id=\"patch_20\">\n    <path d=\"M 238.111321 85.487936 \nL 301.281132 85.487936 \n\" style=\"fill:none;stroke:#000000;stroke-linecap:square;stroke-linejoin:miter;stroke-width:0.8;\"/>\n   </g>\n   <g id=\"patch_21\">\n    <path d=\"M 238.111321 22.318125 \nL 301.281132 22.318125 \n\" style=\"fill:none;stroke:#000000;stroke-linecap:square;stroke-linejoin:miter;stroke-width:0.8;\"/>\n   </g>\n   <g id=\"text_4\">\n    <!-- dress -->\n    <defs>\n     <path d=\"M 45.40625 46.390625 \nL 45.40625 75.984375 \nL 54.390625 75.984375 \nL 54.390625 0 \nL 45.40625 0 \nL 45.40625 8.203125 \nQ 42.578125 3.328125 38.25 0.953125 \nQ 33.9375 -1.421875 27.875 -1.421875 \nQ 17.96875 -1.421875 11.734375 6.484375 \nQ 5.515625 14.40625 5.515625 27.296875 \nQ 5.515625 40.1875 11.734375 48.09375 \nQ 17.96875 56 27.875 56 \nQ 33.9375 56 38.25 53.625 \nQ 42.578125 51.265625 45.40625 46.390625 \nz\nM 14.796875 27.296875 \nQ 14.796875 17.390625 18.875 11.75 \nQ 22.953125 6.109375 30.078125 6.109375 \nQ 37.203125 6.109375 41.296875 11.75 \nQ 45.40625 17.390625 45.40625 27.296875 \nQ 45.40625 37.203125 41.296875 42.84375 \nQ 37.203125 48.484375 30.078125 48.484375 \nQ 22.953125 48.484375 18.875 42.84375 \nQ 14.796875 37.203125 14.796875 27.296875 \nz\n\" id=\"DejaVuSans-100\"/>\n    </defs>\n    <g transform=\"translate(253.479351 16.318125)scale(0.12 -0.12)\">\n     <use xlink:href=\"#DejaVuSans-100\"/>\n     <use x=\"63.476562\" xlink:href=\"#DejaVuSans-114\"/>\n     <use x=\"104.558594\" xlink:href=\"#DejaVuSans-101\"/>\n     <use x=\"166.082031\" xlink:href=\"#DejaVuSans-115\"/>\n     <use x=\"218.181641\" xlink:href=\"#DejaVuSans-115\"/>\n    </g>\n   </g>\n  </g>\n  <g id=\"axes_5\">\n   <g id=\"patch_22\">\n    <path d=\"M 313.915094 85.487936 \nL 377.084906 85.487936 \nL 377.084906 22.318125 \nL 313.915094 22.318125 \nz\n\" style=\"fill:#ffffff;\"/>\n   </g>\n   <g clip-path=\"url(#p60425f4bcb)\">\n    <image height=\"64\" id=\"image708d611933\" transform=\"scale(1 -1)translate(0 -64)\" width=\"64\" x=\"313.915094\" xlink:href=\"data:image/png;base64,\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\" y=\"-21.487936\"/>\n   </g>\n   <g id=\"patch_23\">\n    <path d=\"M 313.915094 85.487936 \nL 313.915094 22.318125 \n\" style=\"fill:none;stroke:#000000;stroke-linecap:square;stroke-linejoin:miter;stroke-width:0.8;\"/>\n   </g>\n   <g id=\"patch_24\">\n    <path d=\"M 377.084906 85.487936 \nL 377.084906 22.318125 \n\" style=\"fill:none;stroke:#000000;stroke-linecap:square;stroke-linejoin:miter;stroke-width:0.8;\"/>\n   </g>\n   <g id=\"patch_25\">\n    <path d=\"M 313.915094 85.487936 \nL 377.084906 85.487936 \n\" style=\"fill:none;stroke:#000000;stroke-linecap:square;stroke-linejoin:miter;stroke-width:0.8;\"/>\n   </g>\n   <g id=\"patch_26\">\n    <path d=\"M 313.915094 22.318125 \nL 377.084906 22.318125 \n\" style=\"fill:none;stroke:#000000;stroke-linecap:square;stroke-linejoin:miter;stroke-width:0.8;\"/>\n   </g>\n   <g id=\"text_5\">\n    <!-- t-shirt -->\n    <g transform=\"translate(327.569375 16.318125)scale(0.12 -0.12)\">\n     <use xlink:href=\"#DejaVuSans-116\"/>\n     <use x=\"39.208984\" xlink:href=\"#DejaVuSans-45\"/>\n     <use x=\"75.292969\" xlink:href=\"#DejaVuSans-115\"/>\n     <use x=\"127.392578\" xlink:href=\"#DejaVuSans-104\"/>\n     <use x=\"190.771484\" xlink:href=\"#DejaVuSans-105\"/>\n     <use x=\"218.554688\" xlink:href=\"#DejaVuSans-114\"/>\n     <use x=\"259.667969\" xlink:href=\"#DejaVuSans-116\"/>\n    </g>\n   </g>\n  </g>\n  <g id=\"axes_6\">\n   <g id=\"patch_27\">\n    <path d=\"M 389.718868 85.487936 \nL 452.888679 85.487936 \nL 452.888679 22.318125 \nL 389.718868 22.318125 \nz\n\" style=\"fill:#ffffff;\"/>\n   </g>\n   <g clip-path=\"url(#p53241683b9)\">\n    <image height=\"64\" id=\"image8b5f214842\" transform=\"scale(1 -1)translate(0 -64)\" width=\"64\" x=\"389.718868\" xlink:href=\"data:image/png;base64,\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\" y=\"-21.487936\"/>\n   </g>\n   <g id=\"patch_28\">\n    <path d=\"M 389.718868 85.487936 \nL 389.718868 22.318125 \n\" style=\"fill:none;stroke:#000000;stroke-linecap:square;stroke-linejoin:miter;stroke-width:0.8;\"/>\n   </g>\n   <g id=\"patch_29\">\n    <path d=\"M 452.888679 85.487936 \nL 452.888679 22.318125 \n\" style=\"fill:none;stroke:#000000;stroke-linecap:square;stroke-linejoin:miter;stroke-width:0.8;\"/>\n   </g>\n   <g id=\"patch_30\">\n    <path d=\"M 389.718868 85.487936 \nL 452.888679 85.487936 \n\" style=\"fill:none;stroke:#000000;stroke-linecap:square;stroke-linejoin:miter;stroke-width:0.8;\"/>\n   </g>\n   <g id=\"patch_31\">\n    <path d=\"M 389.718868 22.318125 \nL 452.888679 22.318125 \n\" style=\"fill:none;stroke:#000000;stroke-linecap:square;stroke-linejoin:miter;stroke-width:0.8;\"/>\n   </g>\n   <g id=\"text_6\">\n    <!-- pullover -->\n    <defs>\n     <path d=\"M 18.109375 8.203125 \nL 18.109375 -20.796875 \nL 9.078125 -20.796875 \nL 9.078125 54.6875 \nL 18.109375 54.6875 \nL 18.109375 46.390625 \nQ 20.953125 51.265625 25.265625 53.625 \nQ 29.59375 56 35.59375 56 \nQ 45.5625 56 51.78125 48.09375 \nQ 58.015625 40.1875 58.015625 27.296875 \nQ 58.015625 14.40625 51.78125 6.484375 \nQ 45.5625 -1.421875 35.59375 -1.421875 \nQ 29.59375 -1.421875 25.265625 0.953125 \nQ 20.953125 3.328125 18.109375 8.203125 \nz\nM 48.6875 27.296875 \nQ 48.6875 37.203125 44.609375 42.84375 \nQ 40.53125 48.484375 33.40625 48.484375 \nQ 26.265625 48.484375 22.1875 42.84375 \nQ 18.109375 37.203125 18.109375 27.296875 \nQ 18.109375 17.390625 22.1875 11.75 \nQ 26.265625 6.109375 33.40625 6.109375 \nQ 40.53125 6.109375 44.609375 11.75 \nQ 48.6875 17.390625 48.6875 27.296875 \nz\n\" id=\"DejaVuSans-112\"/>\n     <path d=\"M 8.5 21.578125 \nL 8.5 54.6875 \nL 17.484375 54.6875 \nL 17.484375 21.921875 \nQ 17.484375 14.15625 20.5 10.265625 \nQ 23.53125 6.390625 29.59375 6.390625 \nQ 36.859375 6.390625 41.078125 11.03125 \nQ 45.3125 15.671875 45.3125 23.6875 \nL 45.3125 54.6875 \nL 54.296875 54.6875 \nL 54.296875 0 \nL 45.3125 0 \nL 45.3125 8.40625 \nQ 42.046875 3.421875 37.71875 1 \nQ 33.40625 -1.421875 27.6875 -1.421875 \nQ 18.265625 -1.421875 13.375 4.4375 \nQ 8.5 10.296875 8.5 21.578125 \nz\nM 31.109375 56 \nz\n\" id=\"DejaVuSans-117\"/>\n     <path d=\"M 2.984375 54.6875 \nL 12.5 54.6875 \nL 29.59375 8.796875 \nL 46.6875 54.6875 \nL 56.203125 54.6875 \nL 35.6875 0 \nL 23.484375 0 \nz\n\" id=\"DejaVuSans-118\"/>\n    </defs>\n    <g transform=\"translate(396.977524 16.318125)scale(0.12 -0.12)\">\n     <use xlink:href=\"#DejaVuSans-112\"/>\n     <use x=\"63.476562\" xlink:href=\"#DejaVuSans-117\"/>\n     <use x=\"126.855469\" xlink:href=\"#DejaVuSans-108\"/>\n     <use x=\"154.638672\" xlink:href=\"#DejaVuSans-108\"/>\n     <use x=\"182.421875\" xlink:href=\"#DejaVuSans-111\"/>\n     <use x=\"243.603516\" xlink:href=\"#DejaVuSans-118\"/>\n     <use x=\"302.783203\" xlink:href=\"#DejaVuSans-101\"/>\n     <use x=\"364.306641\" xlink:href=\"#DejaVuSans-114\"/>\n    </g>\n   </g>\n  </g>\n  <g id=\"axes_7\">\n   <g id=\"patch_32\">\n    <path d=\"M 465.522642 85.487936 \nL 528.692453 85.487936 \nL 528.692453 22.318125 \nL 465.522642 22.318125 \nz\n\" style=\"fill:#ffffff;\"/>\n   </g>\n   <g clip-path=\"url(#pe3510c8c49)\">\n    <image height=\"64\" id=\"image8eb400c4ca\" transform=\"scale(1 -1)translate(0 -64)\" width=\"64\" x=\"465.522642\" xlink:href=\"data:image/png;base64,\niVBORw0KGgoAAAANSUhEUgAAAEAAAABACAYAAACqaXHeAAAABHNCSVQICAgIfAhkiAAABSpJREFUeJztmk1sVFUUx3/vYz46dEoLTREKKYofaCUFYtKIYPxADBiNURasZMGCRE1cuTHEja6UhTEmSmJcuTAYTQxRVn5skMSvhUaiIFBaaEsVmU477XTmzXsuzn33zjCUFiK5CfPO5t0599xz/+/c/zv3vPvG2e7sjmhhcW0DsC1JAGwDsC1JAGwDsC1JAGwDsC1JAGwDsC1JAGwDsC1JAGwDsC1JAGwDsC3+9Ri7+bxuO5m0XH1xEeWX6L6oTfqidKP7yDfxjlxHxgdh0zyR56rxcnUqYuMXZoyRI+OjlNc8V+wznk/9dqfM+NpfZ0V3lftsKdFh8zqXaqWzrAswq6T11UC3o+K0NLLKRWHK2BXk6vqeMlaHTp5nxueyCoFawUxK94VpdXWkr9opiplVWW1TycvahWqYWzU4QwUpyAn+1JTM71UNgztWyP22PANaPgC+t6JHWnNzWhmcGWowcnM5AML+dVp3+eHVAEz1Cc3KK2u6L8qodvwEueoRCM0j5V8S7vol0WX+NfNlCmKfLdRUXwWAtlGD0Z2abcAYZdPmh9P46DI6AUCtUKgbIHMkDCCUSMwO3qWVYw+pzLJeEt3G3gsA3J//Udv0pIoALHFlVcqhSWIpR5Jl2pEVHMyOAFDFrEzWkXmXupLock66brxJlgDDgeAYCXJaVwilXQozAISRWcu/g44GHCdmVgHQm5nWNl8eeBRIGIA/tF9WfvOuE1o5oCLlIQVEMWgD4J9qu7Y5N7scANcRmzbP7EPxuLGybDWfR5sByNbZBKGs8rL0TIMfgK6U6KaDTAPY5amSbue9MmBWuRwZBnoIuyZruQZsXb4ZP7JTrgkD1rz5PQDjxzZr5Q87JPLencKEtoxk4YGeUW3Tm5WMWgykOBmdNYXU7UsuAbA2J9fulPjJ1FUrY5VOwKxkPQMm1bM+p/JKUTHh4lyHtont9/YcE6yYL3x9vuSnr0r3AnCytELZNJfdLc+Alg+Ac6Nfh4df3wLAy3uOALAtd0r3HZ3aAMC5siTK2ZpQebDjTJOfatT8QjpZk6R7dqZbflflMVudM4VMly+J8tuLdwOQ2THU5Of02w8C8OFzhwA4Utio+07sWw8kDJiHAaqUdNTbWxQETSZXSmn3oG6PPStJ8+i29wD4pSxl89eF+7RNzIo4Ua5Mm9WdqEqyG1dJb032svgprNE2A0ulOHsy/5vY1kwSfn/4EWk8MQaA1y5nFU6XsQnOSXGWMOCaOUCVqYRS0rpZ8z4elssLOo9ftP482AvAZ1s/0H0X1Ip9V5StKt5OAdo9Ka/jAubwH5sA2Nd/XNt89MV2ANYeEJ3fZ9hx9gVp/7T/HQCef2ovAJXlppT2v/lZ7mnBu7jFpeUDcMPbYLOnunfw6OounU39un16jyS4Ox6QZHT4nk9138dF2dp+nZbkOVKSI7qdPb9rm13t0n6xb+u8kMZfka36tmeGRfH4+SabhAE39W9yMSvmYUS9TLy0RbcLG2TbPfjYJwCMB5Iwp2smUR4eksTY/fTJeX3GSfvUG2K77tXjzTYLIrvF5eYy4MrJUubUJ6pWFj3u/GvCjnf3HdK6t9Zt+F8wJQy4KQy48lRW5YD4MxpAVKs19i2GHW7dWWFYu7pNPYyMnCNElUrDXA0uF/Ryi0vLB+C6vg4vWubZ9q71VrmopLgI2jf4rPvYM5+0PAOSANgGYFuSANgGYFuSANgGYFuSANgGYFuSANgGYFuSANgGYFuSANgGYFuSANgGYFv+AyXedSFitGQAAAAAAElFTkSuQmCC\" y=\"-21.487936\"/>\n   </g>\n   <g id=\"patch_33\">\n    <path d=\"M 465.522642 85.487936 \nL 465.522642 22.318125 \n\" style=\"fill:none;stroke:#000000;stroke-linecap:square;stroke-linejoin:miter;stroke-width:0.8;\"/>\n   </g>\n   <g id=\"patch_34\">\n    <path d=\"M 528.692453 85.487936 \nL 528.692453 22.318125 \n\" style=\"fill:none;stroke:#000000;stroke-linecap:square;stroke-linejoin:miter;stroke-width:0.8;\"/>\n   </g>\n   <g id=\"patch_35\">\n    <path d=\"M 465.522642 85.487936 \nL 528.692453 85.487936 \n\" style=\"fill:none;stroke:#000000;stroke-linecap:square;stroke-linejoin:miter;stroke-width:0.8;\"/>\n   </g>\n   <g id=\"patch_36\">\n    <path d=\"M 465.522642 22.318125 \nL 528.692453 22.318125 \n\" style=\"fill:none;stroke:#000000;stroke-linecap:square;stroke-linejoin:miter;stroke-width:0.8;\"/>\n   </g>\n   <g id=\"text_7\">\n    <!-- sneaker -->\n    <g transform=\"translate(473.180672 16.318125)scale(0.12 -0.12)\">\n     <use xlink:href=\"#DejaVuSans-115\"/>\n     <use x=\"52.099609\" xlink:href=\"#DejaVuSans-110\"/>\n     <use x=\"115.478516\" xlink:href=\"#DejaVuSans-101\"/>\n     <use x=\"177.001953\" xlink:href=\"#DejaVuSans-97\"/>\n     <use x=\"238.28125\" xlink:href=\"#DejaVuSans-107\"/>\n     <use x=\"296.144531\" xlink:href=\"#DejaVuSans-101\"/>\n     <use x=\"357.667969\" xlink:href=\"#DejaVuSans-114\"/>\n    </g>\n   </g>\n  </g>\n  <g id=\"axes_8\">\n   <g id=\"patch_37\">\n    <path d=\"M 541.326415 85.487936 \nL 604.496226 85.487936 \nL 604.496226 22.318125 \nL 541.326415 22.318125 \nz\n\" style=\"fill:#ffffff;\"/>\n   </g>\n   <g clip-path=\"url(#p0ea2292352)\">\n    <image height=\"64\" id=\"image9ef97de3b5\" transform=\"scale(1 -1)translate(0 -64)\" width=\"64\" x=\"541.326415\" xlink:href=\"data:image/png;base64,\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\" y=\"-21.487936\"/>\n   </g>\n   <g id=\"patch_38\">\n    <path d=\"M 541.326415 85.487936 \nL 541.326415 22.318125 \n\" style=\"fill:none;stroke:#000000;stroke-linecap:square;stroke-linejoin:miter;stroke-width:0.8;\"/>\n   </g>\n   <g id=\"patch_39\">\n    <path d=\"M 604.496226 85.487936 \nL 604.496226 22.318125 \n\" style=\"fill:none;stroke:#000000;stroke-linecap:square;stroke-linejoin:miter;stroke-width:0.8;\"/>\n   </g>\n   <g id=\"patch_40\">\n    <path d=\"M 541.326415 85.487936 \nL 604.496226 85.487936 \n\" style=\"fill:none;stroke:#000000;stroke-linecap:square;stroke-linejoin:miter;stroke-width:0.8;\"/>\n   </g>\n   <g id=\"patch_41\">\n    <path d=\"M 541.326415 22.318125 \nL 604.496226 22.318125 \n\" style=\"fill:none;stroke:#000000;stroke-linecap:square;stroke-linejoin:miter;stroke-width:0.8;\"/>\n   </g>\n   <g id=\"text_8\">\n    <!-- pullover -->\n    <g transform=\"translate(548.585071 16.318125)scale(0.12 -0.12)\">\n     <use xlink:href=\"#DejaVuSans-112\"/>\n     <use x=\"63.476562\" xlink:href=\"#DejaVuSans-117\"/>\n     <use x=\"126.855469\" xlink:href=\"#DejaVuSans-108\"/>\n     <use x=\"154.638672\" xlink:href=\"#DejaVuSans-108\"/>\n     <use x=\"182.421875\" xlink:href=\"#DejaVuSans-111\"/>\n     <use x=\"243.603516\" xlink:href=\"#DejaVuSans-118\"/>\n     <use x=\"302.783203\" xlink:href=\"#DejaVuSans-101\"/>\n     <use x=\"364.306641\" xlink:href=\"#DejaVuSans-114\"/>\n    </g>\n   </g>\n  </g>\n  <g id=\"axes_9\">\n   <g id=\"patch_42\">\n    <path d=\"M 617.130189 85.487936 \nL 680.3 85.487936 \nL 680.3 22.318125 \nL 617.130189 22.318125 \nz\n\" style=\"fill:#ffffff;\"/>\n   </g>\n   <g clip-path=\"url(#p5adcb0698e)\">\n    <image height=\"64\" id=\"image94295ec89c\" transform=\"scale(1 -1)translate(0 -64)\" width=\"64\" x=\"617.130189\" xlink:href=\"data:image/png;base64,\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\" y=\"-21.487936\"/>\n   </g>\n   <g id=\"patch_43\">\n    <path d=\"M 617.130189 85.487936 \nL 617.130189 22.318125 \n\" style=\"fill:none;stroke:#000000;stroke-linecap:square;stroke-linejoin:miter;stroke-width:0.8;\"/>\n   </g>\n   <g id=\"patch_44\">\n    <path d=\"M 680.3 85.487936 \nL 680.3 22.318125 \n\" style=\"fill:none;stroke:#000000;stroke-linecap:square;stroke-linejoin:miter;stroke-width:0.8;\"/>\n   </g>\n   <g id=\"patch_45\">\n    <path d=\"M 617.130189 85.487936 \nL 680.3 85.487936 \n\" style=\"fill:none;stroke:#000000;stroke-linecap:square;stroke-linejoin:miter;stroke-width:0.8;\"/>\n   </g>\n   <g id=\"patch_46\">\n    <path d=\"M 617.130189 22.318125 \nL 680.3 22.318125 \n\" style=\"fill:none;stroke:#000000;stroke-linecap:square;stroke-linejoin:miter;stroke-width:0.8;\"/>\n   </g>\n   <g id=\"text_9\">\n    <!-- sandal -->\n    <g transform=\"translate(628.957282 16.318125)scale(0.12 -0.12)\">\n     <use xlink:href=\"#DejaVuSans-115\"/>\n     <use x=\"52.099609\" xlink:href=\"#DejaVuSans-97\"/>\n     <use x=\"113.378906\" xlink:href=\"#DejaVuSans-110\"/>\n     <use x=\"176.757812\" xlink:href=\"#DejaVuSans-100\"/>\n     <use x=\"240.234375\" xlink:href=\"#DejaVuSans-97\"/>\n     <use x=\"301.513672\" xlink:href=\"#DejaVuSans-108\"/>\n    </g>\n   </g>\n  </g>\n </g>\n <defs>\n  <clipPath id=\"p9ecb3326cc\">\n   <rect height=\"63.169811\" width=\"63.169811\" x=\"10.7\" y=\"22.318125\"/>\n  </clipPath>\n  <clipPath id=\"pbfc82659bf\">\n   <rect height=\"63.169811\" width=\"63.169811\" x=\"86.503774\" y=\"22.318125\"/>\n  </clipPath>\n  <clipPath id=\"p785d7bda35\">\n   <rect height=\"63.169811\" width=\"63.169811\" x=\"162.307547\" y=\"22.318125\"/>\n  </clipPath>\n  <clipPath id=\"p36c1bf539d\">\n   <rect height=\"63.169811\" width=\"63.169811\" x=\"238.111321\" y=\"22.318125\"/>\n  </clipPath>\n  <clipPath id=\"p60425f4bcb\">\n   <rect height=\"63.169811\" width=\"63.169811\" x=\"313.915094\" y=\"22.318125\"/>\n  </clipPath>\n  <clipPath id=\"p53241683b9\">\n   <rect height=\"63.169811\" width=\"63.169811\" x=\"389.718868\" y=\"22.318125\"/>\n  </clipPath>\n  <clipPath id=\"pe3510c8c49\">\n   <rect height=\"63.169811\" width=\"63.169811\" x=\"465.522642\" y=\"22.318125\"/>\n  </clipPath>\n  <clipPath id=\"p0ea2292352\">\n   <rect height=\"63.169811\" width=\"63.169811\" x=\"541.326415\" y=\"22.318125\"/>\n  </clipPath>\n  <clipPath id=\"p5adcb0698e\">\n   <rect height=\"63.169811\" width=\"63.169811\" x=\"617.130189\" y=\"22.318125\"/>\n  </clipPath>\n </defs>\n</svg>\n"
          },
          "metadata": {
            "tags": []
          }
        }
      ]
    },
    {
      "cell_type": "markdown",
      "metadata": {
        "id": "EGxxDfbudNvY",
        "colab_type": "text"
      },
      "source": [
        "###3.5.2. 读取小批量\n",
        "&emsp;&emsp;我们将在训练数据集上训练模型，并将训练好的模型在测试数据集上评价模型的表现。虽然我们可以像“线性回归的从零开始实现”一节中那样通过yield来定义读取小批量数据样本的函数，但为了代码简洁，这里我们直接通过from_tensor_slices创建Dataset实例。该实例每次读取一个样本数为batch_size的小批量数据。这里的批量大小batch_size是一个超参数。"
      ]
    },
    {
      "cell_type": "code",
      "metadata": {
        "id": "lfCxFSsaB278",
        "colab_type": "code",
        "colab": {}
      },
      "source": [
        "batch_size=256\n",
        "buffer_size=10000\n",
        "train_iter=tfdata.Dataset.from_tensor_slices((x_train,y_train)).map(lambda x,y:(x/255,y)).shuffle(buffer_size).batch(batch_size)\n",
        "test_iter=tfdata.Dataset.from_tensor_slices((x_test,y_test)).map(lambda x,y:(x/255,y)).batch(batch_size)"
      ],
      "execution_count": 0,
      "outputs": []
    },
    {
      "cell_type": "code",
      "metadata": {
        "id": "0_I39oL8FKpZ",
        "colab_type": "code",
        "colab": {}
      },
      "source": [
        "for x,y in iter(train_iter):\n",
        "  print(x[0])\n",
        "  print(y)\n",
        "  break"
      ],
      "execution_count": 0,
      "outputs": []
    },
    {
      "cell_type": "code",
      "metadata": {
        "id": "MgJPk4FOFeKG",
        "colab_type": "code",
        "outputId": "48a3f30b-af7e-4ab3-9636-e45cd4b58e0c",
        "colab": {
          "base_uri": "https://localhost:8080/",
          "height": 35
        }
      },
      "source": [
        "start=time.time()\n",
        "for X,y in train_iter:\n",
        "  continue\n",
        "\n",
        "'%.2f sec'%(time.time()-start)"
      ],
      "execution_count": 16,
      "outputs": [
        {
          "output_type": "execute_result",
          "data": {
            "text/plain": [
              "'3.75 sec'"
            ]
          },
          "metadata": {
            "tags": []
          },
          "execution_count": 16
        }
      ]
    },
    {
      "cell_type": "code",
      "metadata": {
        "id": "hRLBJVQ0GiOU",
        "colab_type": "code",
        "outputId": "52bb0710-bfe1-4f0a-8162-c39a0896c131",
        "colab": {
          "base_uri": "https://localhost:8080/",
          "height": 35
        }
      },
      "source": [
        "type(train_iter)"
      ],
      "execution_count": 17,
      "outputs": [
        {
          "output_type": "execute_result",
          "data": {
            "text/plain": [
              "tensorflow.python.data.ops.dataset_ops.DatasetV1Adapter"
            ]
          },
          "metadata": {
            "tags": []
          },
          "execution_count": 17
        }
      ]
    },
    {
      "cell_type": "markdown",
      "metadata": {
        "id": "JHbL06xXGl3Y",
        "colab_type": "text"
      },
      "source": [
        "### 3.5.3. 小结\n",
        "&emsp;&emsp;Fashion-MNIST是一个10类服饰分类数据集，之后章节里将使用它来检验不同算法的表现。\n",
        "我们将高和宽分别为 h 和 w 像素的图像的形状记为 h×w 或（h，w）。"
      ]
    }
  ]
}
