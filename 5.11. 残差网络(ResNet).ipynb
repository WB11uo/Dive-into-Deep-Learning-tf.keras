{
  "nbformat": 4,
  "nbformat_minor": 0,
  "metadata": {
    "colab": {
      "name": "5.11. 残差网络(ResNet).ipynb",
      "provenance": [],
      "collapsed_sections": [],
      "include_colab_link": true
    },
    "kernelspec": {
      "name": "python3",
      "display_name": "Python 3"
    },
    "accelerator": "GPU"
  },
  "cells": [
    {
      "cell_type": "markdown",
      "metadata": {
        "id": "view-in-github",
        "colab_type": "text"
      },
      "source": [
        "<a href=\"https://colab.research.google.com/github/chongzicbo/Dive-into-Deep-Learning-tf.keras/blob/master/5.11.%20%E6%AE%8B%E5%B7%AE%E7%BD%91%E7%BB%9C(ResNet).ipynb\" target=\"_parent\"><img src=\"https://colab.research.google.com/assets/colab-badge.svg\" alt=\"Open In Colab\"/></a>"
      ]
    },
    {
      "cell_type": "markdown",
      "metadata": {
        "id": "-vCgUedPqoPa",
        "colab_type": "text"
      },
      "source": [
        "##5.11. 残差网络（ResNet）\n",
        "让我们先思考一个问题：对神经网络模型添加新的层，充分训练后的模型是否只可能更有效地降低训练误差？理论上，原模型解的空间只是新模型解的空间的子空间。也就是说，如果我们能将新添加的层训练成恒等映射 f(x)=x ，新模型和原模型将同样有效。由于新模型可能得出更优的解来拟合训练数据集，因此添加层似乎更容易降低训练误差。然而在实践中，添加过多的层后训练误差往往不降反升。即使利用批量归一化带来的数值稳定性使训练深层模型更加容易，该问题仍然存在。针对这一问题，何恺明等人提出了残差网络（ResNet） [1]。它在2015年的ImageNet图像识别挑战赛夺魁，并深刻影响了后来的深度神经网络的设计。\n",
        "\n",
        "###5.11.1. 残差块\n",
        "让我们聚焦于神经网络局部。如图5.9所示，设输入为 $x$ 。假设我们希望学出的理想映射为 $f(x)$ ，从而作为图5.9上方激活函数的输入。左图虚线框中的部分需要直接拟合出该映射 $f(x)$ ，而右图虚线框中的部分则需要拟合出有关恒等映射的残差映射 $f(x)−x$ 。残差映射在实际中往往更容易优化。以本节开头提到的恒等映射作为我们希望学出的理想映射 $f(x)$ 。我们只需将图5.9中右图虚线框内上方的加权运算（如仿射）的权重和偏差参数学成0，那么 $f(x)$ 即为恒等映射。实际中，当理想映射 $f(x)$ 极接近于恒等映射时，残差映射也易于捕捉恒等映射的细微波动。图5.9右图也是ResNet的基础块，即残差块（residual block）。在残差块中，输入可通过跨层的数据线路更快地向前传播。\n",
        "\n",
        "<div align=center><img src=\"https://zh.gluon.ai/_images/residual-block.svg\" width=\"500\"/></div>\n",
        "\n",
        "<center>图 5.9 设输入为 $x$ 。假设图中最上方激活函数输入的理想映射为 $f(x)$ 。左图虚线框中的部分需要直接拟合出该映射 $f(x)$ ，而右图虚线框中的部分需要拟合出有关恒等映射的残差映射 $f(x)−x$</center>\n",
        "\n",
        "ResNet沿用了VGG全 $3\\times 3$ 卷积层的设计。残差块里首先有2个有相同输出通道数的 $3\\times 3$ 卷积层。每个卷积层后接一个批量归一化层和ReLU激活函数。然后我们将输入跳过这两个卷积运算后直接加在最后的ReLU激活函数前。这样的设计要求两个卷积层的输出与输入形状一样，从而可以相加。如果想改变通道数，就需要引入一个额外的 $1\\times1$ 卷积层来将输入变换成需要的形状后再做相加运算。\n",
        "\n",
        "残差块的实现如下。它可以设定输出通道数、是否使用额外的 $1\\times1$ 卷积层来修改通道数以及卷积层的步幅。"
      ]
    },
    {
      "cell_type": "code",
      "metadata": {
        "id": "K5pHJDSOhpsC",
        "colab_type": "code",
        "outputId": "ab9e1110-72cb-48ae-f660-3e8b6f1f8647",
        "colab": {
          "base_uri": "https://localhost:8080/",
          "height": 62
        }
      },
      "source": [
        "import tensorflow as tf\n",
        "from tensorflow import keras\n",
        "from tensorflow.keras import layers,Sequential\n",
        "from tensorflow.data import Dataset\n",
        "from tensorflow.keras import losses,optimizers\n",
        "import time\n",
        "import numpy as np\n",
        "from tensorflow import image\n",
        "import os\n",
        "import sys"
      ],
      "execution_count": 0,
      "outputs": [
        {
          "output_type": "display_data",
          "data": {
            "text/html": [
              "<p style=\"color: red;\">\n",
              "The default version of TensorFlow in Colab will soon switch to TensorFlow 2.x.<br>\n",
              "We recommend you <a href=\"https://www.tensorflow.org/guide/migrate\" target=\"_blank\">upgrade</a> now \n",
              "or ensure your notebook will continue to use TensorFlow 1.x via the <code>%tensorflow_version 1.x</code> magic:\n",
              "<a href=\"https://colab.research.google.com/notebooks/tensorflow_version.ipynb\" target=\"_blank\">more info</a>.</p>\n"
            ],
            "text/plain": [
              "<IPython.core.display.HTML object>"
            ]
          },
          "metadata": {
            "tags": []
          }
        }
      ]
    },
    {
      "cell_type": "code",
      "metadata": {
        "id": "Va17scNZisz9",
        "colab_type": "code",
        "colab": {}
      },
      "source": [
        "tf.enable_eager_execution()"
      ],
      "execution_count": 0,
      "outputs": []
    },
    {
      "cell_type": "code",
      "metadata": {
        "id": "YuPTGf1Riz6K",
        "colab_type": "code",
        "colab": {}
      },
      "source": [
        "class Residual(layers.Layer):\n",
        "  def __init__(self,num_channels,use_1x1conv=False,strides=1):\n",
        "    super(Residual,self).__init__()\n",
        "    self.conv1=layers.Convolution2D(num_channels,kernel_size=3,padding='same',strides=strides)\n",
        "    self.conv2=layers.Convolution2D(num_channels,kernel_size=3,padding='same')\n",
        "    if use_1x1conv:\n",
        "      self.conv3=layers.Convolution2D(num_channels,kernel_size=1,strides=strides)\n",
        "    else:\n",
        "      self.conv3=None\n",
        "    self.bn1=layers.BatchNormalization()\n",
        "    self.bn2=layers.BatchNormalization()\n",
        "\n",
        "  def call(self,X):\n",
        "    Y=keras.activations.relu(self.bn1(self.conv1(X)))\n",
        "    Y=self.bn2(self.conv2(Y))\n",
        "    if self.conv3:\n",
        "      X=self.conv3(X)\n",
        "    return keras.activations.relu(Y+X)"
      ],
      "execution_count": 0,
      "outputs": []
    },
    {
      "cell_type": "markdown",
      "metadata": {
        "id": "yqESWggnrwpa",
        "colab_type": "text"
      },
      "source": [
        "下面我们来查看输入和输出形状一致的情况。"
      ]
    },
    {
      "cell_type": "code",
      "metadata": {
        "id": "foXN1PKvkl-x",
        "colab_type": "code",
        "outputId": "16454d81-0382-437f-dc15-27a90312ec80",
        "colab": {
          "base_uri": "https://localhost:8080/",
          "height": 34
        }
      },
      "source": [
        "blk=Residual(3)\n",
        "X=tf.random.uniform(shape=(4,6,6,3))\n",
        "blk(X).shape"
      ],
      "execution_count": 0,
      "outputs": [
        {
          "output_type": "execute_result",
          "data": {
            "text/plain": [
              "TensorShape([Dimension(4), Dimension(6), Dimension(6), Dimension(3)])"
            ]
          },
          "metadata": {
            "tags": []
          },
          "execution_count": 4
        }
      ]
    },
    {
      "cell_type": "markdown",
      "metadata": {
        "id": "OPTvIBb_r06W",
        "colab_type": "text"
      },
      "source": [
        "我们也可以在增加输出通道数的同时减半输出的高和宽。"
      ]
    },
    {
      "cell_type": "code",
      "metadata": {
        "id": "8fJ5TxUYky9o",
        "colab_type": "code",
        "outputId": "a8afe3c5-826b-47db-95ac-4cbca25a7b44",
        "colab": {
          "base_uri": "https://localhost:8080/",
          "height": 34
        }
      },
      "source": [
        "blk=Residual(6,use_1x1conv=True,strides=2)\n",
        "blk(X).shape"
      ],
      "execution_count": 0,
      "outputs": [
        {
          "output_type": "execute_result",
          "data": {
            "text/plain": [
              "TensorShape([Dimension(4), Dimension(3), Dimension(3), Dimension(6)])"
            ]
          },
          "metadata": {
            "tags": []
          },
          "execution_count": 5
        }
      ]
    },
    {
      "cell_type": "markdown",
      "metadata": {
        "id": "UcxzzH_Xr33o",
        "colab_type": "text"
      },
      "source": [
        "###5.11.2. ResNet模型\n",
        "ResNet的前两层跟之前介绍的GoogLeNet中的一样：在输出通道数为64、步幅为2的 $7\\times7$ 卷积层后接步幅为2的 $3\\times3$ 的最大池化层。不同之处在于ResNet每个卷积层后增加的批量归一化层。"
      ]
    },
    {
      "cell_type": "code",
      "metadata": {
        "id": "HwxXrsFdlp5C",
        "colab_type": "code",
        "colab": {}
      },
      "source": [
        "net=Sequential([\n",
        "  layers.Convolution2D(64,kernel_size=7,strides=2,padding='same'),\n",
        "  layers.BatchNormalization(),\n",
        "  layers.Activation('relu'),\n",
        "  layers.MaxPool2D(pool_size=3,strides=2,padding='same')                \n",
        "])"
      ],
      "execution_count": 0,
      "outputs": []
    },
    {
      "cell_type": "markdown",
      "metadata": {
        "id": "7xCD48vlsCL2",
        "colab_type": "text"
      },
      "source": [
        "GoogLeNet在后面接了4个由Inception块组成的模块。ResNet则使用4个由残差块组成的模块，每个模块使用若干个同样输出通道数的残差块。第一个模块的通道数同输入通道数一致。由于之前已经使用了步幅为2的最大池化层，所以无须减小高和宽。之后的每个模块在第一个残差块里将上一个模块的通道数翻倍，并将高和宽减半。\n",
        "\n",
        "下面我们来实现这个模块。注意，这里对第一个模块做了特别处理。"
      ]
    },
    {
      "cell_type": "code",
      "metadata": {
        "id": "BHV3MNXjmsvP",
        "colab_type": "code",
        "colab": {}
      },
      "source": [
        "def resnet_block(num_channels,num_residuals,first_block=False):\n",
        "  blk=Sequential()\n",
        "  for i in range(num_residuals):\n",
        "    if i==0 and not first_block:\n",
        "      blk.add(Residual(num_channels,use_1x1conv=True,strides=2))\n",
        "    else:\n",
        "      blk.add(Residual(num_channels))\n",
        "  return blk"
      ],
      "execution_count": 0,
      "outputs": []
    },
    {
      "cell_type": "markdown",
      "metadata": {
        "id": "VOKm8Z2JsFU2",
        "colab_type": "text"
      },
      "source": [
        "接着我们为ResNet加入所有残差块。这里每个模块使用两个残差块。"
      ]
    },
    {
      "cell_type": "code",
      "metadata": {
        "id": "3otZY1BboMgl",
        "colab_type": "code",
        "colab": {}
      },
      "source": [
        "net.add(resnet_block(64,2,first_block=True))\n",
        "net.add(resnet_block(128,2))\n",
        "net.add(resnet_block(256,2))\n",
        "net.add(resnet_block(512,2))"
      ],
      "execution_count": 0,
      "outputs": []
    },
    {
      "cell_type": "markdown",
      "metadata": {
        "id": "jwPSeOIosIwe",
        "colab_type": "text"
      },
      "source": [
        "最后，与GoogLeNet一样，加入全局平均池化层后接上全连接层输出。"
      ]
    },
    {
      "cell_type": "code",
      "metadata": {
        "id": "_DNSHAu_ooN0",
        "colab_type": "code",
        "colab": {}
      },
      "source": [
        "net.add(layers.GlobalAveragePooling2D())\n",
        "net.add(layers.Dense(10))"
      ],
      "execution_count": 0,
      "outputs": []
    },
    {
      "cell_type": "markdown",
      "metadata": {
        "id": "rCoF0F3LsMwm",
        "colab_type": "text"
      },
      "source": [
        "这里每个模块里有4个卷积层（不计算 $1\\times1$ 卷积层），加上最开始的卷积层和最后的全连接层，共计18层。这个模型通常也被称为ResNet-18。通过配置不同的通道数和模块里的残差块数可以得到不同的ResNet模型，例如更深的含152层的ResNet-152。虽然ResNet的主体架构跟GoogLeNet的类似，但ResNet结构更简单，修改也更方便。这些因素都导致了ResNet迅速被广泛使用。\n",
        "\n",
        "在训练ResNet之前，我们来观察一下输入形状在ResNet不同模块之间的变化。"
      ]
    },
    {
      "cell_type": "code",
      "metadata": {
        "id": "pe38rvyIow79",
        "colab_type": "code",
        "outputId": "aaa36a16-f473-415a-b9bf-e8742e83f333",
        "colab": {
          "base_uri": "https://localhost:8080/",
          "height": 185
        }
      },
      "source": [
        "X=tf.random.uniform(shape=(1,224,224,1))\n",
        "for layer in net.layers:\n",
        "  X=layer(X)\n",
        "  print(layer.name,'output shape:\\t',X.shape)"
      ],
      "execution_count": 0,
      "outputs": [
        {
          "output_type": "stream",
          "text": [
            "conv2d_5 output shape:\t (1, 112, 112, 64)\n",
            "batch_normalization_4 output shape:\t (1, 112, 112, 64)\n",
            "activation output shape:\t (1, 112, 112, 64)\n",
            "max_pooling2d output shape:\t (1, 56, 56, 64)\n",
            "sequential_1 output shape:\t (1, 56, 56, 64)\n",
            "sequential_2 output shape:\t (1, 28, 28, 128)\n",
            "sequential_3 output shape:\t (1, 14, 14, 256)\n",
            "sequential_4 output shape:\t (1, 7, 7, 512)\n",
            "global_average_pooling2d output shape:\t (1, 512)\n",
            "dense output shape:\t (1, 10)\n"
          ],
          "name": "stdout"
        }
      ]
    },
    {
      "cell_type": "markdown",
      "metadata": {
        "id": "1lqvTxNisVQ9",
        "colab_type": "text"
      },
      "source": [
        "###5.11.3. 获取数据和训练模型\n",
        "下面我们在Fashion-MNIST数据集上训练ResNet。"
      ]
    },
    {
      "cell_type": "code",
      "metadata": {
        "id": "10218n6apA3B",
        "colab_type": "code",
        "outputId": "701ba2de-b989-4f74-cb0b-7bd7a3f68cf8",
        "colab": {
          "base_uri": "https://localhost:8080/",
          "height": 440
        }
      },
      "source": [
        "lr,num_epochs,batch_size=0.05,5,128\n",
        "optimizer=optimizers.SGD(learning_rate=lr)\n",
        "loss=losses.SparseCategoricalCrossentropy(from_logits=True)\n",
        "buffer_size=1000\n",
        "def load_data_fashion_mnist(batch_size,buffer_size):\n",
        "  (x_train,y_train),(x_test,y_test)=keras.datasets.fashion_mnist.load_data()\n",
        "  x_train=x_train[:,:,:,np.newaxis]#将三维张量增加一个channel维\n",
        "  x_test=x_test[:,:,:,np.newaxis]\n",
        "  train_iter=Dataset.from_tensor_slices((x_train,y_train)).map(lambda x,y:(x/255,y)).shuffle(buffer_size).batch(batch_size).map(lambda x,y:(image.resize(images=x,size=(224,224)),y))\n",
        "  test_iter=Dataset.from_tensor_slices((x_test,y_test)).map(lambda x,y:(x/255,y)).batch(batch_size).map(lambda x,y:(image.resize(images=x,size=(224,224)),y))\n",
        "  return train_iter,test_iter\n",
        "train_iter,test_iter=load_data_fashion_mnist(batch_size=batch_size,buffer_size=buffer_size)"
      ],
      "execution_count": 0,
      "outputs": [
        {
          "output_type": "stream",
          "text": [
            "Downloading data from https://storage.googleapis.com/tensorflow/tf-keras-datasets/train-labels-idx1-ubyte.gz\n",
            "32768/29515 [=================================] - 0s 0us/step\n",
            "Downloading data from https://storage.googleapis.com/tensorflow/tf-keras-datasets/train-images-idx3-ubyte.gz\n",
            "26427392/26421880 [==============================] - 0s 0us/step\n",
            "Downloading data from https://storage.googleapis.com/tensorflow/tf-keras-datasets/t10k-labels-idx1-ubyte.gz\n",
            "8192/5148 [===============================================] - 0s 0us/step\n",
            "Downloading data from https://storage.googleapis.com/tensorflow/tf-keras-datasets/t10k-images-idx3-ubyte.gz\n",
            "4423680/4422102 [==============================] - 0s 0us/step\n",
            "WARNING:tensorflow:Entity <function load_data_fashion_mnist.<locals>.<lambda> at 0x7f2eb8820e18> could not be transformed and will be executed as-is. Please report this to the AutoGraph team. When filing the bug, set the verbosity to 10 (on Linux, `export AUTOGRAPH_VERBOSITY=10`) and attach the full output. Cause: Unable to identify source code of lambda function <function load_data_fashion_mnist.<locals>.<lambda> at 0x7f2eb8820e18>. It was defined on this line: train_iter=Dataset.from_tensor_slices((x_train,y_train)).map(lambda x,y:(x/255,y)).shuffle(buffer_size).batch(batch_size).map(lambda x,y:(image.resize(images=x,size=(224,224)),y))\n",
            ", which must contain a single lambda with matching signature. To avoid ambiguity, define each lambda in a separate expression.\n",
            "WARNING: Entity <function load_data_fashion_mnist.<locals>.<lambda> at 0x7f2eb8820e18> could not be transformed and will be executed as-is. Please report this to the AutoGraph team. When filing the bug, set the verbosity to 10 (on Linux, `export AUTOGRAPH_VERBOSITY=10`) and attach the full output. Cause: Unable to identify source code of lambda function <function load_data_fashion_mnist.<locals>.<lambda> at 0x7f2eb8820e18>. It was defined on this line: train_iter=Dataset.from_tensor_slices((x_train,y_train)).map(lambda x,y:(x/255,y)).shuffle(buffer_size).batch(batch_size).map(lambda x,y:(image.resize(images=x,size=(224,224)),y))\n",
            ", which must contain a single lambda with matching signature. To avoid ambiguity, define each lambda in a separate expression.\n",
            "WARNING:tensorflow:Entity <function load_data_fashion_mnist.<locals>.<lambda> at 0x7f2eb88209d8> could not be transformed and will be executed as-is. Please report this to the AutoGraph team. When filing the bug, set the verbosity to 10 (on Linux, `export AUTOGRAPH_VERBOSITY=10`) and attach the full output. Cause: Unable to identify source code of lambda function <function load_data_fashion_mnist.<locals>.<lambda> at 0x7f2eb88209d8>. It was defined on this line: train_iter=Dataset.from_tensor_slices((x_train,y_train)).map(lambda x,y:(x/255,y)).shuffle(buffer_size).batch(batch_size).map(lambda x,y:(image.resize(images=x,size=(224,224)),y))\n",
            ", which must contain a single lambda with matching signature. To avoid ambiguity, define each lambda in a separate expression.\n",
            "WARNING: Entity <function load_data_fashion_mnist.<locals>.<lambda> at 0x7f2eb88209d8> could not be transformed and will be executed as-is. Please report this to the AutoGraph team. When filing the bug, set the verbosity to 10 (on Linux, `export AUTOGRAPH_VERBOSITY=10`) and attach the full output. Cause: Unable to identify source code of lambda function <function load_data_fashion_mnist.<locals>.<lambda> at 0x7f2eb88209d8>. It was defined on this line: train_iter=Dataset.from_tensor_slices((x_train,y_train)).map(lambda x,y:(x/255,y)).shuffle(buffer_size).batch(batch_size).map(lambda x,y:(image.resize(images=x,size=(224,224)),y))\n",
            ", which must contain a single lambda with matching signature. To avoid ambiguity, define each lambda in a separate expression.\n",
            "WARNING:tensorflow:Entity <function load_data_fashion_mnist.<locals>.<lambda> at 0x7f2d2aea0730> could not be transformed and will be executed as-is. Please report this to the AutoGraph team. When filing the bug, set the verbosity to 10 (on Linux, `export AUTOGRAPH_VERBOSITY=10`) and attach the full output. Cause: Unable to identify source code of lambda function <function load_data_fashion_mnist.<locals>.<lambda> at 0x7f2d2aea0730>. It was defined on this line: test_iter=Dataset.from_tensor_slices((x_test,y_test)).map(lambda x,y:(x/255,y)).batch(batch_size).map(lambda x,y:(image.resize(images=x,size=(224,224)),y))\n",
            ", which must contain a single lambda with matching signature. To avoid ambiguity, define each lambda in a separate expression.\n",
            "WARNING: Entity <function load_data_fashion_mnist.<locals>.<lambda> at 0x7f2d2aea0730> could not be transformed and will be executed as-is. Please report this to the AutoGraph team. When filing the bug, set the verbosity to 10 (on Linux, `export AUTOGRAPH_VERBOSITY=10`) and attach the full output. Cause: Unable to identify source code of lambda function <function load_data_fashion_mnist.<locals>.<lambda> at 0x7f2d2aea0730>. It was defined on this line: test_iter=Dataset.from_tensor_slices((x_test,y_test)).map(lambda x,y:(x/255,y)).batch(batch_size).map(lambda x,y:(image.resize(images=x,size=(224,224)),y))\n",
            ", which must contain a single lambda with matching signature. To avoid ambiguity, define each lambda in a separate expression.\n",
            "WARNING:tensorflow:Entity <function load_data_fashion_mnist.<locals>.<lambda> at 0x7f2d29b4d0d0> could not be transformed and will be executed as-is. Please report this to the AutoGraph team. When filing the bug, set the verbosity to 10 (on Linux, `export AUTOGRAPH_VERBOSITY=10`) and attach the full output. Cause: Unable to identify source code of lambda function <function load_data_fashion_mnist.<locals>.<lambda> at 0x7f2d29b4d0d0>. It was defined on this line: test_iter=Dataset.from_tensor_slices((x_test,y_test)).map(lambda x,y:(x/255,y)).batch(batch_size).map(lambda x,y:(image.resize(images=x,size=(224,224)),y))\n",
            ", which must contain a single lambda with matching signature. To avoid ambiguity, define each lambda in a separate expression.\n",
            "WARNING: Entity <function load_data_fashion_mnist.<locals>.<lambda> at 0x7f2d29b4d0d0> could not be transformed and will be executed as-is. Please report this to the AutoGraph team. When filing the bug, set the verbosity to 10 (on Linux, `export AUTOGRAPH_VERBOSITY=10`) and attach the full output. Cause: Unable to identify source code of lambda function <function load_data_fashion_mnist.<locals>.<lambda> at 0x7f2d29b4d0d0>. It was defined on this line: test_iter=Dataset.from_tensor_slices((x_test,y_test)).map(lambda x,y:(x/255,y)).batch(batch_size).map(lambda x,y:(image.resize(images=x,size=(224,224)),y))\n",
            ", which must contain a single lambda with matching signature. To avoid ambiguity, define each lambda in a separate expression.\n"
          ],
          "name": "stdout"
        }
      ]
    },
    {
      "cell_type": "code",
      "metadata": {
        "id": "7idBkKSapF_T",
        "colab_type": "code",
        "outputId": "981d568a-d78e-4ba7-9a3b-ecf71936f097",
        "colab": {
          "base_uri": "https://localhost:8080/",
          "height": 269
        }
      },
      "source": [
        "net.compile(optimizer=optimizer,loss=loss,metrics=['accuracy'])\n",
        "history=net.fit_generator(train_iter,validation_data=test_iter,epochs=num_epochs)"
      ],
      "execution_count": 0,
      "outputs": [
        {
          "output_type": "stream",
          "text": [
            "Epoch 1/5\n",
            "468/469 [============================>.] - ETA: 0s - loss: 0.5042 - acc: 0.7283Epoch 1/5\n",
            "469/469 [==============================] - 166s 354ms/step - loss: 0.5036 - acc: 0.7287 - val_loss: 1.3670 - val_acc: 0.5663\n",
            "Epoch 2/5\n",
            "468/469 [============================>.] - ETA: 0s - loss: 0.2515 - acc: 0.9002Epoch 1/5\n",
            "469/469 [==============================] - 164s 350ms/step - loss: 0.2513 - acc: 0.9002 - val_loss: 0.2697 - val_acc: 0.9047\n",
            "Epoch 3/5\n",
            "468/469 [============================>.] - ETA: 0s - loss: 0.1869 - acc: 0.9267Epoch 1/5\n",
            "469/469 [==============================] - 164s 350ms/step - loss: 0.1868 - acc: 0.9268 - val_loss: 0.3256 - val_acc: 0.8862\n",
            "Epoch 4/5\n",
            "468/469 [============================>.] - ETA: 0s - loss: 0.1376 - acc: 0.9461Epoch 1/5\n",
            "469/469 [==============================] - 166s 354ms/step - loss: 0.1375 - acc: 0.9461 - val_loss: 0.2957 - val_acc: 0.9001\n",
            "Epoch 5/5\n",
            "468/469 [============================>.] - ETA: 0s - loss: 0.0917 - acc: 0.9643Epoch 1/5\n",
            "469/469 [==============================] - 165s 352ms/step - loss: 0.0916 - acc: 0.9643 - val_loss: 0.2982 - val_acc: 0.9097\n"
          ],
          "name": "stdout"
        }
      ]
    },
    {
      "cell_type": "markdown",
      "metadata": {
        "id": "wHFItmUapIpW",
        "colab_type": "text"
      },
      "source": [
        "###5.11.4. 小结\n",
        "* 残差块通过跨层的数据通道从而能够训练出有效的深度神经网络。\n",
        "ResNet深刻影响了后来的深度神经网络的设计。"
      ]
    }
  ]
}