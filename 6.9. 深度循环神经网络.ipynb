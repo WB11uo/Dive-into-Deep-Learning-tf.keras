{
  "nbformat": 4,
  "nbformat_minor": 0,
  "metadata": {
    "colab": {
      "name": "6.9. 深度循环神经网络.ipynb",
      "provenance": [],
      "authorship_tag": "ABX9TyNljdxwQvy6PKT4YTXG0x4r",
      "include_colab_link": true
    },
    "kernelspec": {
      "name": "python3",
      "display_name": "Python 3"
    }
  },
  "cells": [
    {
      "cell_type": "markdown",
      "metadata": {
        "id": "view-in-github",
        "colab_type": "text"
      },
      "source": [
        "<a href=\"https://colab.research.google.com/github/chongzicbo/Dive-into-Deep-Learning-tf.keras/blob/master/6.9.%20%E6%B7%B1%E5%BA%A6%E5%BE%AA%E7%8E%AF%E7%A5%9E%E7%BB%8F%E7%BD%91%E7%BB%9C.ipynb\" target=\"_parent\"><img src=\"https://colab.research.google.com/assets/colab-badge.svg\" alt=\"Open In Colab\"/></a>"
      ]
    },
    {
      "cell_type": "markdown",
      "metadata": {
        "id": "MHp5ZIqLlcn1",
        "colab_type": "text"
      },
      "source": [
        "##6.9. 深度循环神经网络\n",
        "本章到目前为止介绍的循环神经网络只有一个单向的隐藏层，在深度学习应用里，我们通常会用到含有多个隐藏层的循环神经网络，也称作深度循环神经网络。图6.11演示了一个有 $L$ 个隐藏层的深度循环神经网络，每个隐藏状态不断传递至当前层的下一时间步和当前时间步的下一层。\n",
        "\n",
        "<img src=\"https://zh.gluon.ai/_images/deep-rnn.svg\" width=\"500\"/>\n",
        "\n",
        "<center>图 6.11 深度循环神经网络的架构</center>\n",
        "\n",
        "具体来说，在时间步 $t$ 里，设小批量输入 $\\boldsymbol{X}_t \\in \\mathbb{R}^{n \\times d}$（样本数为 $n$ ，输入个数为 $d$ ），第 $\\ell$ 隐藏层($\\ell=1,\\ldots,L$)的隐藏状态为$\\boldsymbol{H}_t^{(\\ell)} \\in \\mathbb{R}^{n \\times h}$（隐藏单元个数为 $h$ ），输出层变量为$\\boldsymbol{O}_t \\in \\mathbb{R}^{n \\times q}$（输出个数为 $q$ ），且隐藏层的激活函数为 $\\phi$。第1隐藏层的隐藏状态和之前的计算一样：\n",
        "\n",
        "$$\n",
        "\\boldsymbol{H}_t^{(1)} = \\phi(\\boldsymbol{X}_t \\boldsymbol{W}_{xh}^{(1)} + \\boldsymbol{H}_{t-1}^{(1)} \\boldsymbol{W}_{hh}^{(1)}  + \\boldsymbol{b}_h^{(1)}),\n",
        "$$\n",
        "其中权重$\\boldsymbol{W}_{xh}^{(1)} \\in \\mathbb{R}^{d \\times h}$、$\\boldsymbol{W}_{hh}^{(1)} \\in \\mathbb{R}^{h \\times h}$和偏差$\\boldsymbol{b}_h^{(1)} \\in \\mathbb{R}^{1 \\times h}$分别为第1隐藏层的模型参数。\n",
        "当$1 < \\ell \\leq L$时，第 $\\ell$ 隐藏层的隐藏状态的表达式为\n",
        "$$\n",
        "\\boldsymbol{H}_t^{(\\ell)} = \\phi(\\boldsymbol{H}_t^{(\\ell-1)} \\boldsymbol{W}_{xh}^{(\\ell)} + \\boldsymbol{H}_{t-1}^{(\\ell)} \\boldsymbol{W}_{hh}^{(\\ell)}  + \\boldsymbol{b}_h^{(\\ell)}),\n",
        "$$\n",
        "其中权重$\\boldsymbol{W}_{xh}^{(\\ell)} \\in \\mathbb{R}^{h \\times h}$、$\\boldsymbol{W}_{hh}^{(\\ell)} \\in \\mathbb{R}^{h \\times h}$和偏差$\\boldsymbol{b}_h^{(\\ell)} \\in \\mathbb{R}^{1 \\times h}$分别为第 ℓ 隐藏层的模型参数。\n",
        "\n",
        "最终，输出层的输出只需基于第$ L $隐藏层的隐藏状态：\n",
        "$$\\boldsymbol{O}_t = \\boldsymbol{H}_t^{(L)} \\boldsymbol{W}_{hq} + \\boldsymbol{b}_q,$$\n",
        "其中权重$\\boldsymbol{W}_{hq} \\in \\mathbb{R}^{h \\times q}$和偏差 $\\boldsymbol{b}_q \\in \\mathbb{R}^{1 \\times q}$为输出层的模型参数。\n",
        "\n",
        "同多层感知机一样，隐藏层个数 $L$ 和隐藏单元个数 $h$ 都是超参数。此外，如果将隐藏状态的计算换成门控循环单元或者长短期记忆的计算，我们可以得到深度门控循环神经网络。\n",
        "\n",
        "###6.9.1. 小结\n",
        "* 在深度循环神经网络中，隐藏状态的信息不断传递至当前层的下一时间步和当前时间步的下一层。"
      ]
    }
  ]
}